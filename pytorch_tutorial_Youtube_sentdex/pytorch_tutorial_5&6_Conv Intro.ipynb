{
 "cells": [
  {
   "cell_type": "code",
   "execution_count": 3,
   "metadata": {},
   "outputs": [],
   "source": [
    "import os\n",
    "import cv2\n",
    "import numpy as np\n",
    "from tqdm import tqdm"
   ]
  },
  {
   "cell_type": "code",
   "execution_count": 4,
   "metadata": {},
   "outputs": [],
   "source": [
    "# a flag\n",
    "REBUILD_DATA = False\n",
    "\n",
    "# pre-process data that can be passed into neural network\n",
    "class DogsVSCats():\n",
    "    IMG_SIZE = 50\n",
    "    CATS = \"C:\\\\Users\\\\ciyua\\\\pytorch_tutorial_Youtube_sentdex\\\\kagglecatsanddogs_3367a\\\\PetImages\\\\Cat\"\n",
    "    DOGS = \"C:\\\\Users\\\\ciyua\\\\pytorch_tutorial_Youtube_sentdex\\\\kagglecatsanddogs_3367a\\\\PetImages\\\\Dog\"\n",
    "    LABELS = {CATS:0, DOGS:1}\n",
    "    \n",
    "    training_data = []\n",
    "    catcount = 0\n",
    "    dogcount = 0\n",
    "    \n",
    "    def make_training_data(self):\n",
    "        for label in self.LABELS:    \n",
    "            print(label)            # print the key, which is the path\n",
    "            for f in tqdm(os.listdir(label)):    # os.listdir(path) returns a list of files under the directory(path)\n",
    "                try:\n",
    "                    path = os.path.join(label, f)    # join path of directory and image together\n",
    "                    img = cv2.imread(path, cv2.IMREAD_GRAYSCALE)    # read in grayscale image\n",
    "                    img = cv2.resize(img, (self.IMG_SIZE, self.IMG_SIZE))  # resize image\n",
    "                    self.training_data.append([np.array(img), np.eye(2)[self.LABELS[label]]])    # np.eye(...): append image and an one-hot vector [1, 0] or [0, 1]\n",
    "                \n",
    "                    if label == self.CATS:\n",
    "                        self.catcount += 1\n",
    "                    elif label == self.DOGS:\n",
    "                        self.dogcount += 1\n",
    "                \n",
    "                except Exception as e:\n",
    "                    pass\n",
    "                \n",
    "        np.random.shuffle(self.training_data)    \n",
    "        np.save(\"training_data.npy\", self.training_data)    # Save an array to a binary file in NumPy .npy format.\n",
    "        print(\"Cats:\", self.catcount)\n",
    "        print(\"Dogs:\", self.dogcount)\n",
    "\n",
    "# read in all images and pre-process them, then save them in a file\n",
    "if REBUILD_DATA:\n",
    "    dogsvcats = DogsVSCats()\n",
    "    dogsvcats.make_training_data()\n",
    "                "
   ]
  },
  {
   "cell_type": "code",
   "execution_count": 29,
   "metadata": {},
   "outputs": [
    {
     "name": "stdout",
     "output_type": "stream",
     "text": [
      "24946\n",
      "[array([[167, 172,  91, ..., 110, 122, 139],\n",
      "       [ 75, 125,  74, ..., 104, 117, 129],\n",
      "       [131,  42, 194, ..., 141,  77, 117],\n",
      "       ...,\n",
      "       [102,  79,  90, ...,  86, 118, 108],\n",
      "       [ 78,  96,  95, ...,  63, 123,  83],\n",
      "       [138,  79,  54, ..., 169,  99, 132]], dtype=uint8)\n",
      " array([0., 1.])]\n"
     ]
    }
   ],
   "source": [
    "training_data = np.load(\"training_data.npy\", allow_pickle=True)    # load the file which stores images\n",
    "print(len(training_data))\n",
    "print(training_data[0])  # [image, one-hot vector]"
   ]
  },
  {
   "cell_type": "code",
   "execution_count": 10,
   "metadata": {},
   "outputs": [
    {
     "data": {
      "image/png": "[encoded data removed]",
      "text/plain": [
       "<Figure size 432x288 with 1 Axes>"
      ]
     },
     "metadata": {
      "needs_background": "light"
     },
     "output_type": "display_data"
    }
   ],
   "source": [
    "import matplotlib.pyplot as plt\n",
    "\n",
    "plt.imshow(training_data[1][0], cmap=\"gray\")\n",
    "plt.show()"
   ]
  },
  {
   "cell_type": "code",
   "execution_count": 15,
   "metadata": {},
   "outputs": [
    {
     "name": "stdout",
     "output_type": "stream",
     "text": [
      "torch.Size([128, 2, 2])\n"
     ]
    }
   ],
   "source": [
    "import torch\n",
    "import torch.nn as nn\n",
    "import torch.nn.functional as F\n",
    "\n",
    "# build the CNN\n",
    "class Net(nn.Module):    # inherit from base class nn.Module\n",
    "    def __init__(self):\n",
    "        super().__init__()    # inherit __init__() from base class \"nn.Module\" in this subclass's __init__()\n",
    "        self.conv1 = nn.Conv2d(1, 32, 5)    # 2-D conv layer 1: input 1, output 32, kernel size 5(a 5*5 kernel/filter)\n",
    "        self.conv2 = nn.Conv2d(32, 64, 5)\n",
    "        self.conv3 = nn.Conv2d(64, 128, 5)\n",
    "        \n",
    "        x = torch.randn(50, 50).view(-1,1,50,50)\n",
    "        self._to_linear = None\n",
    "        self.convs(x)\n",
    "        \n",
    "        self.fc1 = nn.Linear(self._to_linear , 512)    # fully connected layer1\n",
    "        self.fc2 = nn.Linear(512, 2)    # # fully connected layer1\n",
    "        \n",
    "    def convs(self, x):\n",
    "        x = F.max_pool2d(F.relu(self.conv1(x)), (2,2))\n",
    "        x = F.max_pool2d(F.relu(self.conv2(x)), (2,2))\n",
    "        x = F.max_pool2d(F.relu(self.conv3(x)), (2,2))\n",
    "        \n",
    "        print(x[0].shape)\n",
    "        if self._to_linear is None:\n",
    "            self._to_linear = x[0].shape[0] * x[0].shape[1] * x[0].shape[2]\n",
    "        return x\n",
    "    \n",
    "    def forward(self, x):\n",
    "        x = self.convs(x)\n",
    "        x = x.view(-1, self._to_linear)    # flatten output after conv\n",
    "        x = F.relu(self.fc1(x))\n",
    "        x = self.fc2(x)\n",
    "        return F.softmax(x, dim=1)\n",
    "    \n",
    "net = Net()"
   ]
  },
  {
   "cell_type": "code",
   "execution_count": 19,
   "metadata": {},
   "outputs": [
    {
     "name": "stdout",
     "output_type": "stream",
     "text": [
      "2494\n"
     ]
    }
   ],
   "source": [
    "import torch.optim as optim\n",
    "\n",
    "optimizer = optim.Adam(net.parameters(), lr=0.001)    #all parameters will be controlled by the optimizer\n",
    "loss_function = nn.MSELoss()\n",
    "\n",
    "# separate Xs and ys\n",
    "X = torch.Tensor([i[0] for i in training_data]).view(-1, 50, 50)\n",
    "X = X / 255.0    # scale pixel value from 0-255 to 0-1\n",
    "y = torch.Tensor([i[1] for i in training_data])\n",
    "\n",
    "# separate training and validation data\n",
    "VAL_PCT = 0.1    #validation dataset percentage \n",
    "val_size = int(len(X)*VAL_PCT)\n",
    "print(val_size)"
   ]
  },
  {
   "cell_type": "code",
   "execution_count": 21,
   "metadata": {},
   "outputs": [
    {
     "name": "stdout",
     "output_type": "stream",
     "text": [
      "22452\n",
      "22452\n",
      "2494\n",
      "2494\n"
     ]
    }
   ],
   "source": [
    "train_X = X[:-val_size]\n",
    "train_y = y[:-val_size]\n",
    "\n",
    "test_X = X[-val_size:]\n",
    "test_y = y[-val_size:]\n",
    "\n",
    "print(len(train_X))\n",
    "print(len(train_y))\n",
    "print(len(test_X))\n",
    "print(len(test_y))"
   ]
  },
  {
   "cell_type": "code",
   "execution_count": null,
   "metadata": {},
   "outputs": [],
   "source": [
    "# train the model\n",
    "BATCH_SIZE = 100\n",
    "EPOCHS = 3    # epochs +, accuracy +\n",
    "\n",
    "for epoch in range(EPOCHS):\n",
    "    for i in tqdm(range(0, len(train_X), BATCH_SIZE)):\n",
    "        #print(i, i + BATCH_SIZE)\n",
    "        batch_X = train_X[i:i+BATCH_SIZE].view(-1,1,50,50)\n",
    "        batch_y = train_y[i:i+BATCH_SIZE]\n",
    "        \n",
    "        net.zero_grad()\n",
    "        outputs = net(batch_X)\n",
    "        loss = loss_function(outputs, batch_y)\n",
    "        loss.backward()\n",
    "        optimizer.step()\n",
    "        \n",
    "print(loss)"
   ]
  },
  {
   "cell_type": "code",
   "execution_count": null,
   "metadata": {},
   "outputs": [],
   "source": [
    "# calculated the accuracy\n",
    "correct = 0\n",
    "total = 0\n",
    "with torch.no_grad():\n",
    "    for i in tqdm(range(len(test_X))):\n",
    "        real_class = torch.argmax(test_y[i])\n",
    "        net_out = net(test_X[i].view(-1,1,50,50))[0]\n",
    "        predicted_class = torch.argmax(net_out)\n",
    "        if predicted_class == real_class:\n",
    "            correct += 1\n",
    "        total += 1\n",
    "print(\"Accuracy:\", round(correct/total, 3))  # output is 0.6xx"
   ]
  },
  {
   "cell_type": "code",
   "execution_count": null,
   "metadata": {},
   "outputs": [],
   "source": []
  }
 ],
 "metadata": {
  "kernelspec": {
   "display_name": "Python 3",
   "language": "python",
   "name": "python3"
  },
  "language_info": {
   "codemirror_mode": {
    "name": "ipython",
    "version": 3
   },
   "file_extension": ".py",
   "mimetype": "text/x-python",
   "name": "python",
   "nbconvert_exporter": "python",
   "pygments_lexer": "ipython3",
   "version": "3.7.3"
  }
 },
 "nbformat": 4,
 "nbformat_minor": 2
}
